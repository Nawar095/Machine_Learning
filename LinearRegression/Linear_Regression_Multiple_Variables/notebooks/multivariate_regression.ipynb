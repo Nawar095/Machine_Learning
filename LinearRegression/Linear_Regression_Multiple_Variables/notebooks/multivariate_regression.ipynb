{
 "cells": [
  {
   "cell_type": "markdown",
   "id": "6e8a7a2d-302a-431e-8dc3-b4eafee4ef63",
   "metadata": {},
   "source": [
    "# Linear Regression Multiple Variables\n",
    "### Sample problem of predicting home price in monroe, new jersey (USA):\n",
    "We have a dataset `homeprices.csv` that contain home prices in monroe twp, NJ. Here price depends on area (square feet), bed rooms and age of the home (in years).    \n",
    "Given these prices we have to predict prices of new homes based on area, bed rooms and age.     \n",
    "<b>Note </b>: <i> Here area, bedrooms, age are called <b>'independent variables'</b> or <b>'features'</b> whereas price is a <b>'dependent variable'</b>.</i>\n",
    "\n",
    "### In this implementation we will try to solve the following problem:\n",
    "* Given these home prices `homeprices.csv` find out price of a home that has:\n",
    "    - 3000 sqr ft area, 3 bedrooms, 40 year old\n",
    "    - 2500 sqr ft area, 4 bedrooms, 5 year old\n",
    "\n",
    "### We will use regression with multiple variables here. Price can be calculated using following equation: [{equation_resource}](https://github.com/codebasics/py/blob/master/ML/2_linear_reg_multivariate/equation.jpg)\n",
    "![equation](../img/equation.jpg)"
   ]
  },
  {
   "cell_type": "code",
   "execution_count": 1,
   "id": "ef78255f-c43c-45cf-b2cd-534277b4b51f",
   "metadata": {},
   "outputs": [],
   "source": [
    "# importing necessary libraries:\n",
    "import pandas as pd\n",
    "import numpy as np\n",
    "import matplotlib.pyplot as plt\n",
    "from sklearn import linear_model"
   ]
  },
  {
   "cell_type": "code",
   "execution_count": 2,
   "id": "810cca12-c0e8-4944-b09d-656abf0ef365",
   "metadata": {},
   "outputs": [
    {
     "data": {
      "text/html": [
       "<div>\n",
       "<style scoped>\n",
       "    .dataframe tbody tr th:only-of-type {\n",
       "        vertical-align: middle;\n",
       "    }\n",
       "\n",
       "    .dataframe tbody tr th {\n",
       "        vertical-align: top;\n",
       "    }\n",
       "\n",
       "    .dataframe thead th {\n",
       "        text-align: right;\n",
       "    }\n",
       "</style>\n",
       "<table border=\"1\" class=\"dataframe\">\n",
       "  <thead>\n",
       "    <tr style=\"text-align: right;\">\n",
       "      <th></th>\n",
       "      <th>area</th>\n",
       "      <th>bedrooms</th>\n",
       "      <th>age</th>\n",
       "      <th>price</th>\n",
       "    </tr>\n",
       "  </thead>\n",
       "  <tbody>\n",
       "    <tr>\n",
       "      <th>0</th>\n",
       "      <td>2600</td>\n",
       "      <td>3.0</td>\n",
       "      <td>20</td>\n",
       "      <td>550000</td>\n",
       "    </tr>\n",
       "    <tr>\n",
       "      <th>1</th>\n",
       "      <td>3000</td>\n",
       "      <td>4.0</td>\n",
       "      <td>15</td>\n",
       "      <td>565000</td>\n",
       "    </tr>\n",
       "    <tr>\n",
       "      <th>2</th>\n",
       "      <td>3200</td>\n",
       "      <td>NaN</td>\n",
       "      <td>18</td>\n",
       "      <td>610000</td>\n",
       "    </tr>\n",
       "    <tr>\n",
       "      <th>3</th>\n",
       "      <td>3600</td>\n",
       "      <td>3.0</td>\n",
       "      <td>30</td>\n",
       "      <td>595000</td>\n",
       "    </tr>\n",
       "    <tr>\n",
       "      <th>4</th>\n",
       "      <td>4000</td>\n",
       "      <td>5.0</td>\n",
       "      <td>8</td>\n",
       "      <td>760000</td>\n",
       "    </tr>\n",
       "    <tr>\n",
       "      <th>5</th>\n",
       "      <td>4100</td>\n",
       "      <td>6.0</td>\n",
       "      <td>8</td>\n",
       "      <td>810000</td>\n",
       "    </tr>\n",
       "  </tbody>\n",
       "</table>\n",
       "</div>"
      ],
      "text/plain": [
       "   area  bedrooms  age   price\n",
       "0  2600       3.0   20  550000\n",
       "1  3000       4.0   15  565000\n",
       "2  3200       NaN   18  610000\n",
       "3  3600       3.0   30  595000\n",
       "4  4000       5.0    8  760000\n",
       "5  4100       6.0    8  810000"
      ]
     },
     "execution_count": 2,
     "metadata": {},
     "output_type": "execute_result"
    }
   ],
   "source": [
    "# Load and display our training dataset as a pandas dataframe:\n",
    "df = pd.read_csv(\"../data/homeprices.csv\")\n",
    "df"
   ]
  },
  {
   "cell_type": "markdown",
   "id": "a5981673-02e9-4fac-b345-271a802cf10e",
   "metadata": {},
   "source": [
    "#### Before applying any machine learning algorithm, it is crucial to carefully analyze and convert raw data into a clean dataset. This process, known as Data Preprocessing, involves preparing and transforming raw data to make it suitable for a machine learning model. This step ensures the dataset is clean, consistent, and suitable for training. \n",
    "\n",
    "## Data preprocessing is a crucial step in ML workflows for several key reasons:\n",
    "1. Quality: ML models are only as good as the data they learn from.\n",
    "2. Consistency: Raw data often contains inconsistencies, missing values, irrelevant features, and noise which can negatively impact model performance.\n",
    "3. Performance: Clean, standardized data improves model accuracy,efficiency, training speed, and reliability of the machine learning models.\n",
    "4. Reliability: Preprocessing helps prevent common issues like outliers and biased results.\n",
    "\n",
    "## Key preprocessing steps:\n",
    "- Handle missing values\n",
    "- Remove duplicates\n",
    "- Scale/normalize features\n",
    "- Encode categorical variables\n",
    "- Handle outliers\n",
    "- Feature selection/engineering\n",
    "\n",
    "\n",
    "### Proper Data preprocessing ensures the dataset is clean, well-structured, and ready for analysis, leading to more reliable and accurate predictions, making it the foundation of any successful machine learning pipeline.\n",
    "### Without proper preprocessing, models may learn incorrect patterns or fail to learn at all.\n"
   ]
  },
  {
   "cell_type": "markdown",
   "id": "8328e7ab-11c3-442a-bd63-44d5e4ab7873",
   "metadata": {},
   "source": [
    "When looking at our datset and trying to analyze it, we can come up with several pieces of information:\n",
    "- We can notice Missing values in the bedrooms column.\n",
    "- As the area increases, the price increases (Direct Proportional Relationship).\n",
    "- As the number of bedrooms increases, the price increases (Direct Proportional Relationship).\n",
    "- As the age of the home increases, the price decreases (Inverse proportional relationship)."
   ]
  },
  {
   "cell_type": "markdown",
   "id": "cbd06340-7984-4951-9f0c-6d3a913fab86",
   "metadata": {},
   "source": [
    "# Data Preprocessing: Handle missing values (e.g., fill NaN with the median, or fill NaN with the mean)\n",
    "### filling Nan with median:   \n",
    "* #### Median formula:  [{Formula_reference}](https://www.onlinemathlearning.com/median.html)   \n",
    "![Median formula](../img/median.png)\n",
    "\n",
    "* #### To caluclate median in the bedrooms column: {3.0, 4.0, 3.0, 5.0, 6.0}\n",
    "    - First arrange the point values in an ascending order (or descending order): {3, 3, 4, 5, 6}\n",
    "    - n: number of of point values is 5, an odd number. Hence, the median is the value in the middle position.\n",
    "    - Median position = (5+1)/2 = 3.\n",
    "    - Median = 4."
   ]
  },
  {
   "cell_type": "code",
   "execution_count": 3,
   "id": "8631fdd7-5e7d-493b-ab68-fa696bd559d4",
   "metadata": {},
   "outputs": [
    {
     "data": {
      "text/plain": [
       "4.0"
      ]
     },
     "execution_count": 3,
     "metadata": {},
     "output_type": "execute_result"
    }
   ],
   "source": [
    "median_value = df.bedrooms.median()\n",
    "median_value"
   ]
  },
  {
   "cell_type": "code",
   "execution_count": 4,
   "id": "c34f9ed1-42f4-4e44-a61d-9ca47bf14e36",
   "metadata": {},
   "outputs": [
    {
     "data": {
      "text/html": [
       "<div>\n",
       "<style scoped>\n",
       "    .dataframe tbody tr th:only-of-type {\n",
       "        vertical-align: middle;\n",
       "    }\n",
       "\n",
       "    .dataframe tbody tr th {\n",
       "        vertical-align: top;\n",
       "    }\n",
       "\n",
       "    .dataframe thead th {\n",
       "        text-align: right;\n",
       "    }\n",
       "</style>\n",
       "<table border=\"1\" class=\"dataframe\">\n",
       "  <thead>\n",
       "    <tr style=\"text-align: right;\">\n",
       "      <th></th>\n",
       "      <th>area</th>\n",
       "      <th>bedrooms</th>\n",
       "      <th>age</th>\n",
       "      <th>price</th>\n",
       "    </tr>\n",
       "  </thead>\n",
       "  <tbody>\n",
       "    <tr>\n",
       "      <th>0</th>\n",
       "      <td>2600</td>\n",
       "      <td>3.0</td>\n",
       "      <td>20</td>\n",
       "      <td>550000</td>\n",
       "    </tr>\n",
       "    <tr>\n",
       "      <th>1</th>\n",
       "      <td>3000</td>\n",
       "      <td>4.0</td>\n",
       "      <td>15</td>\n",
       "      <td>565000</td>\n",
       "    </tr>\n",
       "    <tr>\n",
       "      <th>2</th>\n",
       "      <td>3200</td>\n",
       "      <td>4.0</td>\n",
       "      <td>18</td>\n",
       "      <td>610000</td>\n",
       "    </tr>\n",
       "    <tr>\n",
       "      <th>3</th>\n",
       "      <td>3600</td>\n",
       "      <td>3.0</td>\n",
       "      <td>30</td>\n",
       "      <td>595000</td>\n",
       "    </tr>\n",
       "    <tr>\n",
       "      <th>4</th>\n",
       "      <td>4000</td>\n",
       "      <td>5.0</td>\n",
       "      <td>8</td>\n",
       "      <td>760000</td>\n",
       "    </tr>\n",
       "    <tr>\n",
       "      <th>5</th>\n",
       "      <td>4100</td>\n",
       "      <td>6.0</td>\n",
       "      <td>8</td>\n",
       "      <td>810000</td>\n",
       "    </tr>\n",
       "  </tbody>\n",
       "</table>\n",
       "</div>"
      ],
      "text/plain": [
       "   area  bedrooms  age   price\n",
       "0  2600       3.0   20  550000\n",
       "1  3000       4.0   15  565000\n",
       "2  3200       4.0   18  610000\n",
       "3  3600       3.0   30  595000\n",
       "4  4000       5.0    8  760000\n",
       "5  4100       6.0    8  810000"
      ]
     },
     "execution_count": 4,
     "metadata": {},
     "output_type": "execute_result"
    }
   ],
   "source": [
    "# fill NaN with the median:\n",
    "# Create copy of our dataframe to demonstrate filling with median\n",
    "df_to_fill_with_median = df.copy()\n",
    "# fill the dataframe with median value\n",
    "df_to_fill_with_median.bedrooms = df_to_fill_with_median.bedrooms.fillna(median_value)\n",
    "df_to_fill_with_median"
   ]
  },
  {
   "cell_type": "markdown",
   "id": "9d2f26d2-b30b-4e90-a68a-df232a36c800",
   "metadata": {},
   "source": [
    "### filling Nan with mean:   \n",
    "* #### mean definiton: The \"average\" number; found by adding all data points and dividing by the number of data points.\n",
    "* #### To find the mean average value or ‘arithmetic mean’, you must first add up all the given data points and divide the sum by the number of data points (or number of numbers) in total.\n",
    "* #### Mean formula: [{Formula_reference}](https://www.mathnasium.com/blog/what-is-mean-in-math)   \n",
    "![Mean formula](../img/mean.png)   \n",
    "\n",
    "\n",
    "* #### To caluclate mean in the bedrooms column: {3.0, 4.0, 3.0, 5.0, 6.0}\n",
    "    - First add up all the given data points: 3 + 4 + 3 + 5 + 6 = 21\n",
    "    - Divide the sum by the number of data points (5) ==> 21/ 5\n",
    "    - Mean = (3 + 4 + 3 + 5 + 6)/5 = 21/ 5 = 4.2."
   ]
  },
  {
   "cell_type": "code",
   "execution_count": 5,
   "id": "63a99675-aafd-476a-aa88-c7ab2efc7d9f",
   "metadata": {},
   "outputs": [
    {
     "data": {
      "text/plain": [
       "4.2"
      ]
     },
     "execution_count": 5,
     "metadata": {},
     "output_type": "execute_result"
    }
   ],
   "source": [
    "mean_value = df['bedrooms'].mean()\n",
    "mean_value"
   ]
  },
  {
   "cell_type": "code",
   "execution_count": 6,
   "id": "cdc1c25d-e1f0-4b65-a1a1-07147c52e30d",
   "metadata": {},
   "outputs": [
    {
     "data": {
      "text/plain": [
       "4"
      ]
     },
     "execution_count": 6,
     "metadata": {},
     "output_type": "execute_result"
    }
   ],
   "source": [
    "# Since we calculate the number of bedrooms, It can't be a decimal number (we need to keep it integer):\n",
    "mean_value = int(mean_value)\n",
    "mean_value"
   ]
  },
  {
   "cell_type": "code",
   "execution_count": 7,
   "id": "c8a48659-c71f-4e02-baf1-edd432b215ff",
   "metadata": {},
   "outputs": [
    {
     "data": {
      "text/html": [
       "<div>\n",
       "<style scoped>\n",
       "    .dataframe tbody tr th:only-of-type {\n",
       "        vertical-align: middle;\n",
       "    }\n",
       "\n",
       "    .dataframe tbody tr th {\n",
       "        vertical-align: top;\n",
       "    }\n",
       "\n",
       "    .dataframe thead th {\n",
       "        text-align: right;\n",
       "    }\n",
       "</style>\n",
       "<table border=\"1\" class=\"dataframe\">\n",
       "  <thead>\n",
       "    <tr style=\"text-align: right;\">\n",
       "      <th></th>\n",
       "      <th>area</th>\n",
       "      <th>bedrooms</th>\n",
       "      <th>age</th>\n",
       "      <th>price</th>\n",
       "    </tr>\n",
       "  </thead>\n",
       "  <tbody>\n",
       "    <tr>\n",
       "      <th>0</th>\n",
       "      <td>2600</td>\n",
       "      <td>3.0</td>\n",
       "      <td>20</td>\n",
       "      <td>550000</td>\n",
       "    </tr>\n",
       "    <tr>\n",
       "      <th>1</th>\n",
       "      <td>3000</td>\n",
       "      <td>4.0</td>\n",
       "      <td>15</td>\n",
       "      <td>565000</td>\n",
       "    </tr>\n",
       "    <tr>\n",
       "      <th>2</th>\n",
       "      <td>3200</td>\n",
       "      <td>4.0</td>\n",
       "      <td>18</td>\n",
       "      <td>610000</td>\n",
       "    </tr>\n",
       "    <tr>\n",
       "      <th>3</th>\n",
       "      <td>3600</td>\n",
       "      <td>3.0</td>\n",
       "      <td>30</td>\n",
       "      <td>595000</td>\n",
       "    </tr>\n",
       "    <tr>\n",
       "      <th>4</th>\n",
       "      <td>4000</td>\n",
       "      <td>5.0</td>\n",
       "      <td>8</td>\n",
       "      <td>760000</td>\n",
       "    </tr>\n",
       "    <tr>\n",
       "      <th>5</th>\n",
       "      <td>4100</td>\n",
       "      <td>6.0</td>\n",
       "      <td>8</td>\n",
       "      <td>810000</td>\n",
       "    </tr>\n",
       "  </tbody>\n",
       "</table>\n",
       "</div>"
      ],
      "text/plain": [
       "   area  bedrooms  age   price\n",
       "0  2600       3.0   20  550000\n",
       "1  3000       4.0   15  565000\n",
       "2  3200       4.0   18  610000\n",
       "3  3600       3.0   30  595000\n",
       "4  4000       5.0    8  760000\n",
       "5  4100       6.0    8  810000"
      ]
     },
     "execution_count": 7,
     "metadata": {},
     "output_type": "execute_result"
    }
   ],
   "source": [
    "# fill NaN with the mean:\n",
    "# Create copy of our dataframe to demonstrate filling with median\n",
    "df_to_fill_with_mean = df.copy()\n",
    "# fill the dataframe with median value\n",
    "df_to_fill_with_mean.bedrooms = df_to_fill_with_mean.bedrooms.fillna(mean_value)\n",
    "df_to_fill_with_mean"
   ]
  },
  {
   "cell_type": "code",
   "execution_count": 8,
   "id": "effdb068-449b-48e7-a44b-03a972e0f705",
   "metadata": {},
   "outputs": [
    {
     "data": {
      "text/html": [
       "<div>\n",
       "<style scoped>\n",
       "    .dataframe tbody tr th:only-of-type {\n",
       "        vertical-align: middle;\n",
       "    }\n",
       "\n",
       "    .dataframe tbody tr th {\n",
       "        vertical-align: top;\n",
       "    }\n",
       "\n",
       "    .dataframe thead th {\n",
       "        text-align: right;\n",
       "    }\n",
       "</style>\n",
       "<table border=\"1\" class=\"dataframe\">\n",
       "  <thead>\n",
       "    <tr style=\"text-align: right;\">\n",
       "      <th></th>\n",
       "      <th>area</th>\n",
       "      <th>bedrooms</th>\n",
       "      <th>age</th>\n",
       "      <th>price</th>\n",
       "    </tr>\n",
       "  </thead>\n",
       "  <tbody>\n",
       "    <tr>\n",
       "      <th>0</th>\n",
       "      <td>2600</td>\n",
       "      <td>3.0</td>\n",
       "      <td>20</td>\n",
       "      <td>550000</td>\n",
       "    </tr>\n",
       "    <tr>\n",
       "      <th>1</th>\n",
       "      <td>3000</td>\n",
       "      <td>4.0</td>\n",
       "      <td>15</td>\n",
       "      <td>565000</td>\n",
       "    </tr>\n",
       "    <tr>\n",
       "      <th>2</th>\n",
       "      <td>3200</td>\n",
       "      <td>4.0</td>\n",
       "      <td>18</td>\n",
       "      <td>610000</td>\n",
       "    </tr>\n",
       "    <tr>\n",
       "      <th>3</th>\n",
       "      <td>3600</td>\n",
       "      <td>3.0</td>\n",
       "      <td>30</td>\n",
       "      <td>595000</td>\n",
       "    </tr>\n",
       "    <tr>\n",
       "      <th>4</th>\n",
       "      <td>4000</td>\n",
       "      <td>5.0</td>\n",
       "      <td>8</td>\n",
       "      <td>760000</td>\n",
       "    </tr>\n",
       "    <tr>\n",
       "      <th>5</th>\n",
       "      <td>4100</td>\n",
       "      <td>6.0</td>\n",
       "      <td>8</td>\n",
       "      <td>810000</td>\n",
       "    </tr>\n",
       "  </tbody>\n",
       "</table>\n",
       "</div>"
      ],
      "text/plain": [
       "   area  bedrooms  age   price\n",
       "0  2600       3.0   20  550000\n",
       "1  3000       4.0   15  565000\n",
       "2  3200       4.0   18  610000\n",
       "3  3600       3.0   30  595000\n",
       "4  4000       5.0    8  760000\n",
       "5  4100       6.0    8  810000"
      ]
     },
     "execution_count": 8,
     "metadata": {},
     "output_type": "execute_result"
    }
   ],
   "source": [
    "# Now we understand how we can handle missing values, let's apply the 'median approach' on our datset, \n",
    "# So we can move to next step (fit and train linear model)\n",
    "df.bedrooms = df.bedrooms.fillna(df.bedrooms.median())\n",
    "df"
   ]
  },
  {
   "cell_type": "markdown",
   "id": "b2a41bd5-da84-48d6-8c5b-ceb102396425",
   "metadata": {},
   "source": [
    "### Visualize how the independent variables (area, bedrooms, age) affect the price in our dataset"
   ]
  },
  {
   "cell_type": "code",
   "execution_count": 9,
   "id": "b8f85c47-d9b0-47cc-bd1c-160fc59bb17b",
   "metadata": {},
   "outputs": [
    {
     "data": {
      "image/png": "[encoded data removed]",
      "text/plain": [
       "<Figure size 1800x500 with 3 Axes>"
      ]
     },
     "metadata": {},
     "output_type": "display_data"
    }
   ],
   "source": [
    "# Create subplots for each independent variable\n",
    "fig, axes = plt.subplots(1, 3, figsize=(18, 5))\n",
    "\n",
    "# Plot area vs price\n",
    "axes[0].scatter(df['area'], df['price'], color='blue', label=\"Data Points\")\n",
    "axes[0].plot(df['area'], df['price'], color='green', label=\"Line of Best Fit\")\n",
    "axes[0].set_title('Area vs Price')\n",
    "axes[0].set_xlabel('Area (sq ft)')\n",
    "axes[0].set_ylabel('Price ($)')\n",
    "\n",
    "\n",
    "# Plot bedrooms vs price\n",
    "axes[1].scatter(df['bedrooms'], df['price'], color='green', label=\"Data Points\")\n",
    "axes[1].plot(df['bedrooms'], df['price'], color='blue', label=\"Line of Best Fit\")\n",
    "axes[1].set_title('Bedrooms vs Price')\n",
    "axes[1].set_xlabel('Bedrooms')\n",
    "axes[1].set_ylabel('Price ($)')\n",
    "\n",
    "# Plot age vs price\n",
    "axes[2].scatter(df['age'], df['price'], color='red', label=\"Data Points\")\n",
    "axes[2].plot(df['age'], df['price'], color='blue', label=\"Line of Best Fit\")\n",
    "axes[2].set_title('Age vs Price')\n",
    "axes[2].set_xlabel('Age (years)')\n",
    "axes[2].set_ylabel('Price ($)')\n",
    "\n",
    "# Display the plots\n",
    "plt.tight_layout() # Ensures that the subplots do not overlap.\n",
    "plt.show()"
   ]
  },
  {
   "cell_type": "markdown",
   "id": "2f567d5d-f82a-4b23-a821-3a9dfa8b8458",
   "metadata": {},
   "source": [
    "### Fitting and training our model using our training dataset `homeprices.csv`"
   ]
  },
  {
   "cell_type": "code",
   "execution_count": 10,
   "id": "f69a4dd0-6973-4712-acf8-4fea0683caf4",
   "metadata": {},
   "outputs": [
    {
     "data": {
      "text/html": [
       "<style>#sk-container-id-1 {color: black;}#sk-container-id-1 pre{padding: 0;}#sk-container-id-1 div.sk-toggleable {background-color: white;}#sk-container-id-1 label.sk-toggleable__label {cursor: pointer;display: block;width: 100%;margin-bottom: 0;padding: 0.3em;box-sizing: border-box;text-align: center;}#sk-container-id-1 label.sk-toggleable__label-arrow:before {content: \"▸\";float: left;margin-right: 0.25em;color: #696969;}#sk-container-id-1 label.sk-toggleable__label-arrow:hover:before {color: black;}#sk-container-id-1 div.sk-estimator:hover label.sk-toggleable__label-arrow:before {color: black;}#sk-container-id-1 div.sk-toggleable__content {max-height: 0;max-width: 0;overflow: hidden;text-align: left;background-color: #f0f8ff;}#sk-container-id-1 div.sk-toggleable__content pre {margin: 0.2em;color: black;border-radius: 0.25em;background-color: #f0f8ff;}#sk-container-id-1 input.sk-toggleable__control:checked~div.sk-toggleable__content {max-height: 200px;max-width: 100%;overflow: auto;}#sk-container-id-1 input.sk-toggleable__control:checked~label.sk-toggleable__label-arrow:before {content: \"▾\";}#sk-container-id-1 div.sk-estimator input.sk-toggleable__control:checked~label.sk-toggleable__label {background-color: #d4ebff;}#sk-container-id-1 div.sk-label input.sk-toggleable__control:checked~label.sk-toggleable__label {background-color: #d4ebff;}#sk-container-id-1 input.sk-hidden--visually {border: 0;clip: rect(1px 1px 1px 1px);clip: rect(1px, 1px, 1px, 1px);height: 1px;margin: -1px;overflow: hidden;padding: 0;position: absolute;width: 1px;}#sk-container-id-1 div.sk-estimator {font-family: monospace;background-color: #f0f8ff;border: 1px dotted black;border-radius: 0.25em;box-sizing: border-box;margin-bottom: 0.5em;}#sk-container-id-1 div.sk-estimator:hover {background-color: #d4ebff;}#sk-container-id-1 div.sk-parallel-item::after {content: \"\";width: 100%;border-bottom: 1px solid gray;flex-grow: 1;}#sk-container-id-1 div.sk-label:hover label.sk-toggleable__label {background-color: #d4ebff;}#sk-container-id-1 div.sk-serial::before {content: \"\";position: absolute;border-left: 1px solid gray;box-sizing: border-box;top: 0;bottom: 0;left: 50%;z-index: 0;}#sk-container-id-1 div.sk-serial {display: flex;flex-direction: column;align-items: center;background-color: white;padding-right: 0.2em;padding-left: 0.2em;position: relative;}#sk-container-id-1 div.sk-item {position: relative;z-index: 1;}#sk-container-id-1 div.sk-parallel {display: flex;align-items: stretch;justify-content: center;background-color: white;position: relative;}#sk-container-id-1 div.sk-item::before, #sk-container-id-1 div.sk-parallel-item::before {content: \"\";position: absolute;border-left: 1px solid gray;box-sizing: border-box;top: 0;bottom: 0;left: 50%;z-index: -1;}#sk-container-id-1 div.sk-parallel-item {display: flex;flex-direction: column;z-index: 1;position: relative;background-color: white;}#sk-container-id-1 div.sk-parallel-item:first-child::after {align-self: flex-end;width: 50%;}#sk-container-id-1 div.sk-parallel-item:last-child::after {align-self: flex-start;width: 50%;}#sk-container-id-1 div.sk-parallel-item:only-child::after {width: 0;}#sk-container-id-1 div.sk-dashed-wrapped {border: 1px dashed gray;margin: 0 0.4em 0.5em 0.4em;box-sizing: border-box;padding-bottom: 0.4em;background-color: white;}#sk-container-id-1 div.sk-label label {font-family: monospace;font-weight: bold;display: inline-block;line-height: 1.2em;}#sk-container-id-1 div.sk-label-container {text-align: center;}#sk-container-id-1 div.sk-container {/* jupyter's `normalize.less` sets `[hidden] { display: none; }` but bootstrap.min.css set `[hidden] { display: none !important; }` so we also need the `!important` here to be able to override the default hidden behavior on the sphinx rendered scikit-learn.org. See: https://github.com/scikit-learn/scikit-learn/issues/21755 */display: inline-block !important;position: relative;}#sk-container-id-1 div.sk-text-repr-fallback {display: none;}</style><div id=\"sk-container-id-1\" class=\"sk-top-container\"><div class=\"sk-text-repr-fallback\"><pre>LinearRegression()</pre><b>In a Jupyter environment, please rerun this cell to show the HTML representation or trust the notebook. <br />On GitHub, the HTML representation is unable to render, please try loading this page with nbviewer.org.</b></div><div class=\"sk-container\" hidden><div class=\"sk-item\"><div class=\"sk-estimator sk-toggleable\"><input class=\"sk-toggleable__control sk-hidden--visually\" id=\"sk-estimator-id-1\" type=\"checkbox\" checked><label for=\"sk-estimator-id-1\" class=\"sk-toggleable__label sk-toggleable__label-arrow\">LinearRegression</label><div class=\"sk-toggleable__content\"><pre>LinearRegression()</pre></div></div></div></div></div>"
      ],
      "text/plain": [
       "LinearRegression()"
      ]
     },
     "execution_count": 10,
     "metadata": {},
     "output_type": "execute_result"
    }
   ],
   "source": [
    "model = linear_model.LinearRegression()\n",
    "model.fit(df[['area', 'bedrooms', 'age']].values, df.price.values)"
   ]
  },
  {
   "cell_type": "code",
   "execution_count": 11,
   "id": "839313d6-c18c-47e2-898a-b5b06d2dc03f",
   "metadata": {},
   "outputs": [
    {
     "name": "stdout",
     "output_type": "stream",
     "text": [
      "m1 = 112.06244194213465\n",
      "m2 = 23388.880077939182\n",
      "m3 = -3231.717908632958\n"
     ]
    }
   ],
   "source": [
    "coefficients = model.coef_\n",
    "print(\"m1 =\", coefficients[0])\n",
    "print(\"m2 =\", coefficients[1])\n",
    "print(\"m3 =\", coefficients[2])"
   ]
  },
  {
   "cell_type": "code",
   "execution_count": 12,
   "id": "fbb0f2d6-d89e-438b-896d-e7dca6ddfc08",
   "metadata": {},
   "outputs": [
    {
     "name": "stdout",
     "output_type": "stream",
     "text": [
      "b = 221323.00186540384\n"
     ]
    }
   ],
   "source": [
    "intercept = model.intercept_\n",
    "print(\"b =\",intercept)"
   ]
  },
  {
   "cell_type": "code",
   "execution_count": 13,
   "id": "07b4b3b6-56e5-4fb9-b688-457519a45db3",
   "metadata": {},
   "outputs": [
    {
     "data": {
      "text/plain": [
       "array([498408.25158031])"
      ]
     },
     "execution_count": 13,
     "metadata": {},
     "output_type": "execute_result"
    }
   ],
   "source": [
    "# Find price of home with 3000 sqr ft area, 3 bedrooms, 40 year old\n",
    "model.predict([[3000, 3, 40]])"
   ]
  },
  {
   "cell_type": "code",
   "execution_count": 14,
   "id": "2a343ff0-d979-4a24-9b33-35acf8296b6a",
   "metadata": {},
   "outputs": [
    {
     "data": {
      "text/plain": [
       "array([578876.03748933])"
      ]
     },
     "execution_count": 14,
     "metadata": {},
     "output_type": "execute_result"
    }
   ],
   "source": [
    "# Find price of home with 2500 sqr ft area, 4 bedrooms, 5 year old\n",
    "model.predict([[2500, 4, 5]])"
   ]
  },
  {
   "cell_type": "code",
   "execution_count": 15,
   "id": "271dffc2-ea2d-4fb4-9f1f-b572e8664e7b",
   "metadata": {},
   "outputs": [
    {
     "name": "stdout",
     "output_type": "stream",
     "text": [
      "578876.0374893325\n"
     ]
    }
   ],
   "source": [
    "## how the model predict the value:\n",
    "# area * m1 + bedrooms * m2 + age * m3 + b\n",
    "prediction = 2500*coefficients[0] + 4*coefficients[1] + 5*coefficients[2] + intercept\n",
    "print(prediction) "
   ]
  }
 ],
 "metadata": {
  "kernelspec": {
   "display_name": "Python 3 (ipykernel)",
   "language": "python",
   "name": "python3"
  },
  "language_info": {
   "codemirror_mode": {
    "name": "ipython",
    "version": 3
   },
   "file_extension": ".py",
   "mimetype": "text/x-python",
   "name": "python",
   "nbconvert_exporter": "python",
   "pygments_lexer": "ipython3",
   "version": "3.10.9"
  }
 },
 "nbformat": 4,
 "nbformat_minor": 5
}
